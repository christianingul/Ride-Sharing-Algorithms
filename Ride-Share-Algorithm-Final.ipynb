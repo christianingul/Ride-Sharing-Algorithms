{
 "cells": [
  {
   "cell_type": "markdown",
   "id": "a87e52fe",
   "metadata": {
    "toc": true
   },
   "source": [
    "<h1>Table of Contents<span class=\"tocSkip\"></span></h1>\n",
    "<div class=\"toc\"><ul class=\"toc-item\"><li><span><a href=\"#Instructions\" data-toc-modified-id=\"Instructions-1\"><span class=\"toc-item-num\">1&nbsp;&nbsp;</span>Instructions</a></span></li><li><span><a href=\"#Before-You-Begin\" data-toc-modified-id=\"Before-You-Begin-2\"><span class=\"toc-item-num\">2&nbsp;&nbsp;</span>Before You Begin</a></span></li><li><span><a href=\"#Ride-Hailing-Platforms\" data-toc-modified-id=\"Ride-Hailing-Platforms-3\"><span class=\"toc-item-num\">3&nbsp;&nbsp;</span>Ride-Hailing Platforms</a></span><ul class=\"toc-item\"><li><span><a href=\"#Brief-History-of-Uber's-Routing-Engine-and-Technological-Innovation\" data-toc-modified-id=\"Brief-History-of-Uber's-Routing-Engine-and-Technological-Innovation-3.1\"><span class=\"toc-item-num\">3.1&nbsp;&nbsp;</span><a href=\"https://www.uber.com/blog/engineering-routing-engine/\" target=\"_blank\">Brief History of Uber's Routing Engine and Technological Innovation</a></a></span></li><li><span><a href=\"#Matching-in-Ride-Hailing\" data-toc-modified-id=\"Matching-in-Ride-Hailing-3.2\"><span class=\"toc-item-num\">3.2&nbsp;&nbsp;</span>Matching in Ride-Hailing</a></span></li><li><span><a href=\"#Additional-Resources-If-Interested---Not-Necessary-to-Know\" data-toc-modified-id=\"Additional-Resources-If-Interested---Not-Necessary-to-Know-3.3\"><span class=\"toc-item-num\">3.3&nbsp;&nbsp;</span>Additional Resources If Interested - Not Necessary to Know</a></span></li></ul></li><li><span><a href=\"#Repeat-of-Instructions\" data-toc-modified-id=\"Repeat-of-Instructions-4\"><span class=\"toc-item-num\">4&nbsp;&nbsp;</span>Repeat of Instructions</a></span></li><li><span><a href=\"#Questions\" data-toc-modified-id=\"Questions-5\"><span class=\"toc-item-num\">5&nbsp;&nbsp;</span>Questions</a></span><ul class=\"toc-item\"><li><span><a href=\"#Question-1-(25-points)---Implement-the-First-Dispatch-Routing-Protocol-with-a-Maximum-Dispatch-Radius\" data-toc-modified-id=\"Question-1-(25-points)---Implement-the-First-Dispatch-Routing-Protocol-with-a-Maximum-Dispatch-Radius-5.1\"><span class=\"toc-item-num\">5.1&nbsp;&nbsp;</span>Question 1 (25 points) - Implement the First-Dispatch Routing Protocol with a Maximum Dispatch Radius</a></span><ul class=\"toc-item\"><li><span><a href=\"#Decision-Variables\" data-toc-modified-id=\"Decision-Variables-5.1.1\"><span class=\"toc-item-num\">5.1.1&nbsp;&nbsp;</span>Decision Variables</a></span></li><li><span><a href=\"#Objective-Function\" data-toc-modified-id=\"Objective-Function-5.1.2\"><span class=\"toc-item-num\">5.1.2&nbsp;&nbsp;</span>Objective Function</a></span></li><li><span><a href=\"#Constraints\" data-toc-modified-id=\"Constraints-5.1.3\"><span class=\"toc-item-num\">5.1.3&nbsp;&nbsp;</span>Constraints</a></span></li><li><span><a href=\"#Solution\" data-toc-modified-id=\"Solution-5.1.4\"><span class=\"toc-item-num\">5.1.4&nbsp;&nbsp;</span>Solution</a></span></li></ul></li><li><span><a href=\"#Question-2-(25-points)---Batching-Dispatch-Protocol:-Minimize-the-Aggregated-En-Route-Time-Model\" data-toc-modified-id=\"Question-2-(25-points)---Batching-Dispatch-Protocol:-Minimize-the-Aggregated-En-Route-Time-Model-5.2\"><span class=\"toc-item-num\">5.2&nbsp;&nbsp;</span>Question 2 (25 points) - Batching Dispatch Protocol: Minimize the Aggregated En Route Time Model</a></span><ul class=\"toc-item\"><li><span><a href=\"#Decision-Variables\" data-toc-modified-id=\"Decision-Variables-5.2.1\"><span class=\"toc-item-num\">5.2.1&nbsp;&nbsp;</span>Decision Variables</a></span></li><li><span><a href=\"#Objective-Function\" data-toc-modified-id=\"Objective-Function-5.2.2\"><span class=\"toc-item-num\">5.2.2&nbsp;&nbsp;</span>Objective Function</a></span></li><li><span><a href=\"#Constraints\" data-toc-modified-id=\"Constraints-5.2.3\"><span class=\"toc-item-num\">5.2.3&nbsp;&nbsp;</span>Constraints</a></span></li><li><span><a href=\"#Solution\" data-toc-modified-id=\"Solution-5.2.4\"><span class=\"toc-item-num\">5.2.4&nbsp;&nbsp;</span>Solution</a></span></li></ul></li><li><span><a href=\"#Question-3-(25-points)---Batching-Dispatch-Protocol:-Maximize-Profit-Model-with-a-Maximum-Dispatch-Radius\" data-toc-modified-id=\"Question-3-(25-points)---Batching-Dispatch-Protocol:-Maximize-Profit-Model-with-a-Maximum-Dispatch-Radius-5.3\"><span class=\"toc-item-num\">5.3&nbsp;&nbsp;</span>Question 3 (25 points) - Batching Dispatch Protocol: Maximize Profit Model with a Maximum Dispatch Radius</a></span><ul class=\"toc-item\"><li><span><a href=\"#Decision-Variables\" data-toc-modified-id=\"Decision-Variables-5.3.1\"><span class=\"toc-item-num\">5.3.1&nbsp;&nbsp;</span>Decision Variables</a></span></li><li><span><a href=\"#Objective-Function\" data-toc-modified-id=\"Objective-Function-5.3.2\"><span class=\"toc-item-num\">5.3.2&nbsp;&nbsp;</span>Objective Function</a></span></li><li><span><a href=\"#Constraints\" data-toc-modified-id=\"Constraints-5.3.3\"><span class=\"toc-item-num\">5.3.3&nbsp;&nbsp;</span>Constraints</a></span></li><li><span><a href=\"#Solution\" data-toc-modified-id=\"Solution-5.3.4\"><span class=\"toc-item-num\">5.3.4&nbsp;&nbsp;</span>Solution</a></span></li></ul></li><li><span><a href=\"#Question-4-(25-points)---Optimal-Scheduling-of-Uber-Push-Notifications\" data-toc-modified-id=\"Question-4-(25-points)---Optimal-Scheduling-of-Uber-Push-Notifications-5.4\"><span class=\"toc-item-num\">5.4&nbsp;&nbsp;</span>Question 4 (25 points) - Optimal Scheduling of Uber Push Notifications</a></span><ul class=\"toc-item\"><li><span><a href=\"#Uber's-motivation-for-implementing-push-notifications:\" data-toc-modified-id=\"Uber's-motivation-for-implementing-push-notifications:-5.4.1\"><span class=\"toc-item-num\">5.4.1&nbsp;&nbsp;</span>Uber's motivation for implementing push notifications:</a></span></li><li><span><a href=\"#Decision-Variables-can-be-explained-as-follows\" data-toc-modified-id=\"Decision-Variables-can-be-explained-as-follows-5.4.2\"><span class=\"toc-item-num\">5.4.2&nbsp;&nbsp;</span>Decision Variables can be explained as follows</a></span></li><li><span><a href=\"#Objective-Function\" data-toc-modified-id=\"Objective-Function-5.4.3\"><span class=\"toc-item-num\">5.4.3&nbsp;&nbsp;</span>Objective Function</a></span></li><li><span><a href=\"#Subject-to:\" data-toc-modified-id=\"Subject-to:-5.4.4\"><span class=\"toc-item-num\">5.4.4&nbsp;&nbsp;</span>Subject to:</a></span></li><li><span><a href=\"#Results:\" data-toc-modified-id=\"Results:-5.4.5\"><span class=\"toc-item-num\">5.4.5&nbsp;&nbsp;</span>Results:</a></span></li></ul></li></ul></li><li><span><a href=\"#Extensions-(If-Interested,-Not-Required)\" data-toc-modified-id=\"Extensions-(If-Interested,-Not-Required)-6\"><span class=\"toc-item-num\">6&nbsp;&nbsp;</span>Extensions (If Interested, Not Required)</a></span></li></ul></div>"
   ]
  },
  {
   "cell_type": "markdown",
   "id": "3ed45dd6",
   "metadata": {},
   "source": [
    "<hr style=\"border: 20px solid black\">"
   ]
  },
  {
   "cell_type": "markdown",
   "id": "65cb23aa",
   "metadata": {},
   "source": [
    "<h1>Instructions</h1>\n",
    "<br>\n",
    "<font size=\"+1\">\n",
    "    <ul>\n",
    "        <li>The goal of this final is to test your mastery of the skills taught in the previous weeks, which includes using Python and CVXPY to build simulation and optimization models (core skills in prescriptive analytics).</li>\n",
    "        <br>\n",
    "        <li>Additionally, it is meant to serve as a case study that you can extend in many directions, if you are interested in doing a personal project.</li>\n",
    "        <br> \n",
    "        <li style=\"color:red\"><b>After completing this Jupyter notebook, submit the <i>.ipynb</i> file on TurnItIn on Blackboard by the deadline. Be sure to refresh the page and double check your submission actually went through.</b></li>\n",
    "        <br>\n",
    "        <li>You are allowed to consult any resources posted online as well as any books or notes, but you <b>cannot</b> ask someone for help or share your solutions with anyone.</li>\n",
    "        <br>\n",
    "        <ul>\n",
    "            <li><b>Any violation of academic integrity will result in a failing grade for everyone involved, please do not do this.</b></li>\n",
    "            <br>\n",
    "        </ul>\n",
    "        <br>\n",
    "        <hr style=\"border:10px solid black\">\n",
    "        <br>\n",
    "        <li style=\"color:black\"><b>Grading:</b> Your grade will be out of $100$ points coming from $4$ questions, each worth $25$ points.</li>\n",
    "        <br>\n",
    "        <li style=\"color:black\">This exam is intended to be engaging and challenging.</li>\n",
    "        <br>\n",
    "    </ul>\n",
    "</font>"
   ]
  },
  {
   "cell_type": "markdown",
   "id": "385c42a5",
   "metadata": {},
   "source": [
    "<hr style=\"border: 20px solid black\">"
   ]
  },
  {
   "cell_type": "markdown",
   "id": "096f5f7b",
   "metadata": {},
   "source": [
    "<h1>Before You Begin</h1>\n",
    "<br>\n",
    "<font size=\"+1\">\n",
    "    <ul>\n",
    "        <li>Please read the following section on <b>Ride-Hailing Platforms</b> as business intelligence and operations background necessary for this project.</li>\n",
    "        <br>\n",
    "    </ul>\n",
    "</font>"
   ]
  },
  {
   "cell_type": "markdown",
   "id": "d03d1f25",
   "metadata": {},
   "source": [
    "<hr style=\"border: 20px solid black\">"
   ]
  },
  {
   "cell_type": "markdown",
   "id": "613c98d0",
   "metadata": {},
   "source": [
    "<img src=\"https://ei.marketwatch.com/Multimedia/2016/08/01/Photos/NS/MW-ES907_didi_u_20160801154402_NS.jpg?uuid=4c17b2d4-5820-11e6-8568-0015c588dfa6\">"
   ]
  },
  {
   "cell_type": "markdown",
   "id": "b39ca6ea",
   "metadata": {},
   "source": [
    "<h1>Ride-Hailing Platforms</h1>\n",
    "<br>\n",
    "<font size=\"+1\">\n",
    "    <ul>\n",
    "        <li>Ride-hailing platforms such as Uber, Lyft, and DiDi have achieved explosive growth and reshaped urban transportation.</li>\n",
    "        <br>\n",
    "        <ul>\n",
    "            <li>For example, Uber has completed over 10 billion trips globally and is active in over 80 countries and 700 cities since its initial launch in 2009.</li>\n",
    "            <br>\n",
    "            <li>By some estimates, the global ride-hailing industry is projected to grow to a 285-billion dollar total market value by 2030.</li>\n",
    "            <br>\n",
    "        </ul>\n",
    "        <li>Ride-hailing platforms connect riders and drivers via a <i>centralized</i> and <i>automated matching and pricing system</i> in a <b>two-sided marketplace</b>.</li>\n",
    "        <br>\n",
    "        <li>Ride-hailing platforms have three components:</li>\n",
    "        <br>\n",
    "        <ul>\n",
    "            <li>driver app (for drivers to offer services and communicate with their customers),</li>\n",
    "            <br>\n",
    "            <li>rider app (for customers to book and track their journeys and select vehicle types),</li>\n",
    "            <br>\n",
    "            <li>and a dispatch system (a system that connects the driver and the customer via their mobile phones).</li>\n",
    "            <br>\n",
    "        </ul>\n",
    "        <li>Relative to taxi services, drivers participating in ride-hailing platforms spend a higher proportion of their time delivering rides.</li>\n",
    "        <br>\n",
    "        <ul>\n",
    "            <li>This is known as having a higher <b><i>capacity utilization rate</i></b>.</li>\n",
    "            <br>\n",
    "            <li>In other words, UberX drivers spend less time waiting between ride requests or driving to pick up riders, compared to taxi drivers.</li>\n",
    "            <br>\n",
    "            <li>This is typically true on the driver side as well.</li>\n",
    "            <br>\n",
    "            <li>Many studies have been conducted and they have found that the average rider waiting time between request and pickup (known as <b><i>rider waiting time</i></b>) can be much lower in a ride-hailing system compared to a street-hailing system.</li>\n",
    "            <br>\n",
    "        </ul>\n",
    "        <li style=\"color:blue\">The are two key levers in building a successful ride-hailing platform:</li>\n",
    "        <br>\n",
    "        <ul style=\"color:blue\">\n",
    "            <li>matching algorithms, which help to efficiently match riders and drivers,</li>\n",
    "            <br>\n",
    "            <li>and dynamic pricing algorithms, which help to keep the supply of drivers and demand of riders in balance.</li>\n",
    "            <br>\n",
    "        </ul>\n",
    "        <li>Matching refers to the process of dispatching available drivers to pick up riders.</li>\n",
    "        <br>\n",
    "        <ul>\n",
    "            <li><img src=\"https://www.uber-assets.com/image/upload/f_auto,q_auto:eco,c_fill,w_956,h_637/v1611193266/assets/58/69b90b-b3a6-412f-a45e-4a28026cd86a/original/2_Better-matching-matters-grey.jpg\" width=\"300\"></li>\n",
    "            <br>\n",
    "        </ul>\n",
    "        <li>Dynamic pricing refers to the adjustment of prices for rides over time based on real-time demand and supply conditions.</li>\n",
    "        <br>\n",
    "        <ul>\n",
    "            <li>Dynamic pricing is called <i>surge pricing</i> by Uber and <i>prime time</i> by Lyft.</li>\n",
    "            <br>\n",
    "            <li><img src=\"https://pbs.twimg.com/media/FQJrV5LXIAAclOb?format=jpg&name=900x900\" height=\"300\" width=\"300\"></li>\n",
    "            <br>\n",
    "        </ul>\n",
    "        <li>A successful implementation of matching and pricing can be leveraged to create an experience with <b>low waiting times</b> for both riders and drivers.</li>\n",
    "        <br>\n",
    "        <li style=\"color:dodgerblue\">As an aside:</li>\n",
    "        <br>\n",
    "        <ul style=\"color:dodgerblue\">\n",
    "            <li>Matching and dynamic pricing algorithms have been leveraged by many other online platforms that connect service providers and consumers.</li>\n",
    "            <br>\n",
    "            <li>For example,</li>\n",
    "            <br>\n",
    "            <ul>\n",
    "                <li><a href=\"https://www.taskrabbit.com/blog/unveiling-the-new-taskrabbit\">TaskRabbit</a> for chores and home projects,</li>\n",
    "                <br>\n",
    "                <li><a href=\"https://www.ebay.com/help/selling/listings/listing-tips/optimising-listings-best-match?id=4166\">eBay</a> for e-commerce,</li>\n",
    "                <br>\n",
    "                <li><a href=\"https://www2.aueb.gr/users/mitsopoulou/files/Parking_Percom_camera_ready(1).pdf\">SpotHero</a> for parking spaces,</li>\n",
    "                <br>\n",
    "                <li>StubHub for concert and sports game tickets,</li>\n",
    "                <br>\n",
    "                <li>Turo and Getaround for car-sharing,</li>\n",
    "                <br>\n",
    "                <li>and <a href=\"https://blogs.cornell.edu/info4220/2016/03/18/how-airbnb-uses-matching-markets-to-ensure-host-preferences/\">Airbnb</a> for hospitality services.</li>\n",
    "                <br>\n",
    "            </ul>\n",
    "            <li>In contrast to ride-hailing, these services provide matching <i>suggestions</i> and price <i>guidance</i> via recommendation systems, but the final decisions are made by the participants on the platform as opposed to the platform itself.</li>\n",
    "            <br>\n",
    "            <li>Food and grocery delivery platforms (such as UberEats, Instacard, or Grubhub) are more similar to ride-hailing platforms, but they have more time and flexibility for dispatching due to a lower level of urgency for the service.</li>\n",
    "            <br>\n",
    "            <li>The pricing and matching decisions for ride-hailing services need to be resolved in real-time as riders and drivers are sensitive in time.</li>\n",
    "            <br>\n",
    "            <li>Matching and pricing algorithms are both optimization problems!</li>\n",
    "            <br>\n",
    "        </ul>\n",
    "    </ul>\n",
    "</font>"
   ]
  },
  {
   "cell_type": "markdown",
   "id": "3d579119",
   "metadata": {},
   "source": [
    "<hr style=\"border:10px solid black\">"
   ]
  },
  {
   "cell_type": "markdown",
   "id": "38131f12",
   "metadata": {},
   "source": [
    "<h2><a href=\"https://www.uber.com/blog/engineering-routing-engine/\">Brief History of Uber's Routing Engine and Technological Innovation</a></h2>\n",
    "<br>\n",
    "<font size=\"+1\">\n",
    "    <ul>\n",
    "        <li>When the Uber app was initially launched around 2010, one of the first features of the app was the ETA (estimated time of arrival) between you and the closest driver.</li>\n",
    "        <br>\n",
    "        <li>In the early days, Uber used a combination of different routing engines to produce an ETA, including the <a href=\"http://project-osrm.org/\">Open Source Routing Machine (OSRM)</a>, which is an open source optimal routing package and the entire codebase can be found on <a href=\"https://github.com/Project-OSRM\">GitHub</a>.</li>\n",
    "        <br>\n",
    "        <ul>\n",
    "            <li>Also in the early days, Uber didn't have navigation available in the app, so the app was only used to estimate the ETA and to display vehicle locations.</li>\n",
    "            <br>\n",
    "            <li>This service of estimating ETAs was called <i>\"GoldETA\"</i> and it was a model that was built on top of the routing engines and adjusted the original estimates using Uber's historical data of similar routes.</li>\n",
    "            <br>\n",
    "            <li>This solution ultimately took into account hundreds of thousands of Uber trips and compared them to the initial routing engine's ETA.</li>\n",
    "            <br>\n",
    "            <li>GoldETA worked better than using any single ETA estimate alone.</li>\n",
    "            <br>\n",
    "        </ul>\n",
    "        <li>The main challenge was the <a href=\"https://en.wikipedia.org/wiki/Cold_start_(recommender_systems)\">cold start</a> problem that Uber faced when they launched in new cities.</li>\n",
    "        <br>\n",
    "        <ul>\n",
    "            <li>Specifically, the cold start problem refers to when you want to use a model without having estimated the model on relevant data, that is, your model starts <i>cold</i>.</li>\n",
    "            <br>\n",
    "        </ul>\n",
    "        <li>Additionally, as Uber grew, they needed to add features to their platform that became difficult to implement due to the integration with the open source codebase OSRM.</li>\n",
    "        <br>\n",
    "        <li>These challenges led Uber to develop their own routing engine solution.</li>\n",
    "        <br>\n",
    "        <li>This required better ETA prediction and better matching and pricing optimization algorithms.</li>\n",
    "        <br>\n",
    "        <li>For more on this development, see <a href=\"https://www.uber.com/blog/engineering-routing-engine/\">this link</a>.</li>\n",
    "        <br>\n",
    "    </ul>\n",
    "</font>"
   ]
  },
  {
   "cell_type": "markdown",
   "id": "f3c0c929",
   "metadata": {},
   "source": [
    "<hr style=\"border:10px solid black\">"
   ]
  },
  {
   "cell_type": "markdown",
   "id": "9645913b",
   "metadata": {},
   "source": [
    "<h2>Matching in Ride-Hailing</h2>\n",
    "<br>\n",
    "<font size=\"+1\">\n",
    "    <ul>\n",
    "        <li>Rides can be either non-shared, meaning that the ride is arranged for only one customer group, or shared, meaning that several customer groups with different pickup and dropoff locations share the ride.</li>\n",
    "        <br>\n",
    "        <li>In the simpler case of a non-shared ride, drivers participating on the platform cycle through three states sequentially: </li>\n",
    "        <br>\n",
    "        <ul>\n",
    "            <li><i>\"open\"</i> (waiting to be dispatched),</li>\n",
    "            <br>\n",
    "            <li><i>\"en route\"</i> (on the way to the pickup location),</li>\n",
    "            <br>\n",
    "            <li>and <i>\"on-trip\"</i> (driving riders to their destination).</li>\n",
    "            <br>\n",
    "        </ul>\n",
    "        <li>A request can be matched with a dispatchable driver using very simple algorithms, such as the <b><i>first-dispatch protocol</i></b>.</li>\n",
    "        <br>\n",
    "        <ul>\n",
    "            <li>In the first-dispatch protocol only open drivers are considered as dispatchable.</li>\n",
    "            <br>\n",
    "            <li>Each request is immediately assigned to the open driver who is predicted to have the shortest en route time.</li>\n",
    "            <br>\n",
    "            <li>This matching algorithm is also called the <i>on-call</i> policy, the <i>closest driver</i> policy, and the <i>committed driver-rider</i> matching protocol.</li>\n",
    "            <br>\n",
    "        </ul>\n",
    "        <li>An alternative matching approach is <i>batching</i> where rider requests are collected for a short time window (typically on the order of seconds), at the end of which an optimization problem is solved to pair each request with an open driver.</li>\n",
    "        <br>\n",
    "        <li>If there are riders that are not matched in this batch, then they are carried over and used for the optimization problem in the next batching window.</li>\n",
    "        <br>\n",
    "        <li>Batching can reduce the rider waiting time relative to the <i>first-dispatch</i> protocol by consolidating requests and making better use of supply.</li>\n",
    "        <br>\n",
    "        <ul>\n",
    "            <li>Note that the first-dispatch protocol can be viewed as a special case of the batching protocol when each batch consists of exactly one rider request.</li>\n",
    "            <br>\n",
    "        </ul>\n",
    "        <li>Due to its substantial benefits, batching has been implemented widely in major ride-hailing platforms.</li>\n",
    "        <br>\n",
    "    </ul>\n",
    "</font>"
   ]
  },
  {
   "cell_type": "markdown",
   "id": "72eb1d0b",
   "metadata": {},
   "source": [
    "<hr style=\"border:10px solid black\">"
   ]
  },
  {
   "cell_type": "markdown",
   "id": "153aa3ea",
   "metadata": {},
   "source": [
    "<h2>Additional Resources If Interested - Not Necessary to Know</h2>\n",
    "<br>\n",
    "<font size=\"+1\">\n",
    "    <ul>\n",
    "        <li><a href=\"https://www.uber.com/blog/simulated-marketplace/\">Gaining Insights in a Simulated Marketplace with Machine Learning at Uber\n",
    "</a></li>\n",
    "        <br>\n",
    "        <li><a href=\"https://eng.lyft.com/matchmaking-in-lyft-line-9c2635fe62c4\">Matchmaking in Lyft Line</a></li>\n",
    "        <br>\n",
    "        <li><a href=\"https://blogs.cornell.edu/info2040/2019/10/23/uber-ride-sharing-a-matching-market/\">Uber Ride-Sharing: A Matching Market?</a></li>\n",
    "        <br>\n",
    "        <li><a href=\"https://www.uber.com/us/en/marketplace/matching/\">How Does Uber Match Riders With Drivers?</a></li>\n",
    "        <br>\n",
    "    </ul>\n",
    "</font>"
   ]
  },
  {
   "cell_type": "markdown",
   "id": "1b29066f",
   "metadata": {},
   "source": [
    "<hr style=\"border: 20px solid black\">"
   ]
  },
  {
   "cell_type": "markdown",
   "id": "6786c88c",
   "metadata": {},
   "source": [
    "<h1>Repeat of Instructions</h1>\n",
    "<br>\n",
    "<font size=\"+1\">\n",
    "    <ul>\n",
    "        <li>The goal of this final is to test your mastery of the skills taught in the previous weeks, which includes using Python and CVXPY to build simulation and optimization models (core skills in prescriptive analytics).</li>\n",
    "        <br>\n",
    "        <li>Additionally, it is meant to serve as a case study that you can extend in many directions, if you are interested in doing a personal project.</li>\n",
    "        <br> \n",
    "        <li style=\"color:red\"><b>After completing this Jupyter notebook, submit the <i>.ipynb</i> file on TurnItIn on Blackboard by the deadline. Be sure to refresh the page and double check your submission actually went through.</b></li>\n",
    "        <br>\n",
    "        <li>You are allowed to consult any resources posted online as well as any books or notes, but you <b>cannot</b> ask someone for help or share your solutions with anyone.</li>\n",
    "        <br>\n",
    "        <ul>\n",
    "            <li><b>Any violation of academic integrity will result in a failing grade for everyone involved, please do not do this.</b></li>\n",
    "            <br>\n",
    "        </ul>\n",
    "        <br>\n",
    "        <hr style=\"border:10px solid black\">\n",
    "        <br>\n",
    "        <li style=\"color:black\"><b>Grading:</b> Your grade will be out of $100$ points coming from $4$ questions, each worth $25$ points.</li>\n",
    "        <br>\n",
    "        <li style=\"color:black\">This exam is intended to be engaging and challenging.</li>\n",
    "        <br>\n",
    "    </ul>\n",
    "</font>"
   ]
  },
  {
   "cell_type": "markdown",
   "id": "796cd5a7",
   "metadata": {},
   "source": [
    "<hr style=\"border: 20px solid black\">"
   ]
  },
  {
   "cell_type": "markdown",
   "id": "a6c92b69",
   "metadata": {},
   "source": [
    "<h1>Questions</h1>\n",
    "<br>\n",
    "<font size=\"+1\">\n",
    "    <ul>\n",
    "        <li>Please explain your reasoning as coherently and succinctly as you can using Markdown, $\\LaTeX$, or comments.</li>\n",
    "        <br>\n",
    "        <li>Your grade will be based on two main factors:</li>\n",
    "        <br>\n",
    "        <ul>\n",
    "            <li>correctness of solution, that is, your code should produce what is requested without error,</li>\n",
    "            <br>\n",
    "            <li>and how readable, coherent, and logical your solution is - to help with this use Markdown, $\\LaTeX$, or comments; imagine you were trying to explain to a hiring manager (a longer explanation does not necessarily mean better).</li>\n",
    "            <br>\n",
    "        </ul>\n",
    "        <li>It helps to write out the problem in your own words or to draw a picture of the problem.</li>\n",
    "        <br>\n",
    "        <li style=\"color:red\"><b>Many of the problems are intentionally vague.</b></li>\n",
    "        <br>\n",
    "        <li style=\"color:red\"><b>You should use your best judgement and common sense, along with all the skills we have been developing this semester, to interpret and answer the question as best you can.</b></li>\n",
    "        <br>\n",
    "        <li style=\"color:red\"><b>Be sure to explain your logic so it is clear why you made your choices and decisions.</b></li>\n",
    "        <br>\n",
    "    </ul>\n",
    "</font>"
   ]
  },
  {
   "cell_type": "markdown",
   "id": "c9d35837",
   "metadata": {},
   "source": [
    "<hr style=\"border: 20px solid black\">"
   ]
  },
  {
   "cell_type": "markdown",
   "id": "39b2465d",
   "metadata": {},
   "source": [
    "<h2>Question 1 (25 points) - Implement the First-Dispatch Routing Protocol with a Maximum Dispatch Radius</h2>\n",
    "<br>\n",
    "<font size=\"+1\">\n",
    "    <ul>\n",
    "        <li style=\"color:blue\">Recall:</li>\n",
    "        <br>\n",
    "        <ul style=\"color:blue\">\n",
    "            <li>A rider's request can be matched with a dispatchable driver using very simple algorithms, such as the <b><i>first-dispatch protocol</i></b>.</li>\n",
    "            <br>\n",
    "            <ul>\n",
    "                <li>In the first-dispatch protocol only open drivers are considered as dispatchable.</li>\n",
    "                <br>\n",
    "                <li><b>Each request is immediately assigned to the open driver who is predicted to have the shortest en route time</b>.</li>\n",
    "                <br>\n",
    "                <li>This matching algorithm is also called the <i>on-call</i> policy, the <i>closest driver</i> policy, and the <i>committed driver-rider</i> matching policy.</li>\n",
    "                <br>\n",
    "            </ul>\n",
    "            <li>When this committed driver-rider matching is used by ride-hailing platforms, the dispatched driver could miss the opportunity of being matched with a rider that they drive passed while en route to their matched rider.</li>\n",
    "            <br>\n",
    "            <li>To mitigate this inefficiency, some ride-hailing platforms proposed a <i>maximum dispatch radius</i> (MDR)  constraint with carefully selected thresholds.</li>\n",
    "            <br>\n",
    "            <li>Maximum dispatch radius means that a dispatch is made only if the en route time is below the threshold.</li>\n",
    "            <br>\n",
    "            <li>This prevents the driver from being dispatched to pick up very distant riders.</li>\n",
    "            <br>\n",
    "        </ul>\n",
    "        <li>Assume you want to implement a benchmark matching algorithm solution that is capable of dispatching a single driver, from a collection of available drivers, to a single rider.</li>\n",
    "        <br>\n",
    "        <li>Specifically, you are to implement the so-called <i>first-dispatch protocol</i> as an optimization problem given the randomly generated data below.</li>\n",
    "        <br>\n",
    "        <li>The data consists of:</li>\n",
    "        <br>\n",
    "        <ul>\n",
    "            <li>A single rider that is requesting a pick-up from a collection of drivers.</li>\n",
    "            <br>\n",
    "            <li>A data frame consisting of some measure of physical distance from the rider to each driver.</li>\n",
    "            <br>\n",
    "            <li>A maximum dispatch radius (MDR) that represents a cutoff value for drivers to be dispatched to riders.</li>\n",
    "            <br>\n",
    "            <ul>\n",
    "                <li>In other words, if a driver's distance to the rider is larger than the MDR, then the driver cannot be dispatched to the rider's request.</li>\n",
    "                <br>\n",
    "            </ul>\n",
    "            <li>A data frame consisting of the en route time, also known as the expected time of arrival (ETA), which represents the estimated time it will take for a driver to meet a rider once they have been dispatched.</li>\n",
    "            <br>\n",
    "        </ul>\n",
    "        <li><b>Using the given data, formulate an optimization model (decision variables, objective function, constraints) that can be used to implement the <b style=\"color:blue\">first-dispatch</b> protocol that also screens drivers according to the maximum dispatch radius constraint.</b></li>\n",
    "        <br>\n",
    "        <li>That is,</li>\n",
    "        <br>\n",
    "        <ul>\n",
    "            <li>what decisions does the first-dispatch protocol have to make?</li>\n",
    "            <br>\n",
    "            <li>what is the goal or objective of the first-dispatch protocol?</li>\n",
    "            <br>\n",
    "            <li>what constraints, besides the MDR constraint, does the first-dispatch protocol have?</li>\n",
    "            <br>\n",
    "            <li>given the data below, how is the first-dispatch protocol suggesting the drivers be dispatched to the single rider?</li>\n",
    "            <br>\n",
    "        </ul>\n",
    "        <li style=\"color:red\"><b>You should display your formulation and solutions in an easy to read and interpret format. Your code should be easy to interpret, and if it is not, you should add sufficient commentary through comments, Markdown, or $\\LaTeX$.</b></li>\n",
    "        <br>\n",
    "    </ul>\n",
    "</font>"
   ]
  },
  {
   "cell_type": "code",
   "execution_count": 1,
   "id": "f5c40c95",
   "metadata": {},
   "outputs": [],
   "source": [
    "# Find a single driver with a minimum ETA\n",
    "# Find a single driver with minimum ETA that satisfies the MDR (maximum dispatch radius) constraint"
   ]
  },
  {
   "cell_type": "code",
   "execution_count": 2,
   "id": "eed82ef6",
   "metadata": {},
   "outputs": [],
   "source": [
    "import numpy as np\n",
    "import pandas as pd\n",
    "\n",
    "import cvxpy as cp"
   ]
  },
  {
   "cell_type": "code",
   "execution_count": 3,
   "id": "5fe3fccf",
   "metadata": {
    "scrolled": false
   },
   "outputs": [],
   "source": [
    "rng = np.random.default_rng(42)\n",
    "# Number of Riders\n",
    "num_riders = 1\n",
    "\n",
    "\n",
    "# Number of drivers\n",
    "num_drivers = rng.poisson(lam=20)\n",
    "\n",
    "# Goal is to route DRIVER to RIDER\n",
    "# Equivalently, to match a rider with a driver\n",
    "\n",
    "# Physical measure of distance between riders and drivers\n",
    "distances = pd.DataFrame(rng.uniform(0, 10, (num_riders, num_drivers)),\n",
    "                         columns=[f'Driver {j}' for j in range(1, num_drivers+1)],\n",
    "                         index=[f'Rider {i}' for i in range(1,num_riders+1)])\n",
    "\n",
    "# Map distances to a binary constraint which consists 1 if within MDR and 0 otherwise\n",
    "# A value of 1 means the driver and rider can be connected.\n",
    "MDR = 5 # don't dispatch outside of MDR miles\n",
    "mdr_test = (distances < MDR).apply(lambda x: np.where(x, 1, 0)) # np.where(distances < MDR, 1, 0)\n",
    "\n",
    "# Temporal measure of distance between riders and drivers\n",
    "# Expected Time of Arrival\n",
    "# ETA should be a function of the distance, driver's allowable speed, and some idiosyncratic noise\n",
    "# (need a more realistic way to assign a variance, maybe as a function of distance)\n",
    "eta = distances.apply(lambda x: rng.pareto(x))# rng.exponential(x))\n"
   ]
  },
  {
   "cell_type": "markdown",
   "id": "ecc9fa39",
   "metadata": {},
   "source": [
    "<h3>Decision Variables</h3>\n",
    "<br>\n",
    "<font size=\"+1\">\n",
    "    <ul>\n",
    "            <li>The decision variables are represented as the combination of riders (i) to drivers (j) (1 rider, 24 drivers).</li>"
   ]
  },
  {
   "cell_type": "code",
   "execution_count": 4,
   "id": "567d56e2",
   "metadata": {},
   "outputs": [
    {
     "data": {
      "text/plain": [
       "(1, 24)"
      ]
     },
     "execution_count": 4,
     "metadata": {},
     "output_type": "execute_result"
    }
   ],
   "source": [
    "x = cp.Variable(eta.shape, boolean = True)\n",
    "x.shape"
   ]
  },
  {
   "cell_type": "markdown",
   "id": "b8e2b243",
   "metadata": {},
   "source": [
    "<h3>Objective Function</h3>\n",
    "<br>\n",
    "    <ul>\n",
    "        <li>What's the goal?</li>\n",
    "        <br>\n",
    "        <li>The goal is to minimize the total expected time of arrival (eta), $$\\text{minimize: } eta = \\sum_{(i,j) \\in \\text{eta} \\times \\text{eta}}{\\text{eta}_{i,j}\\times \\text{x}_{i,j}}$$</li>\n",
    "        <br>\n",
    "        <li>Now, we can instantiate a CVXPY objective function.</li>\n",
    "        <br>\n",
    "    </ul>\n",
    "</font>"
   ]
  },
  {
   "cell_type": "code",
   "execution_count": 5,
   "id": "b24d1bb9",
   "metadata": {},
   "outputs": [],
   "source": [
    "#Objective function\n",
    "total_eta = sum(eta.values[i,j]*x[i,j] for i in range(len(eta.index)) for j in range(len(eta.columns)))\n",
    "objective = cp.Minimize(total_eta)"
   ]
  },
  {
   "cell_type": "markdown",
   "id": "beb44787",
   "metadata": {},
   "source": [
    "<h3>Constraints</h3>\n",
    "<br>\n",
    "<br>\n",
    "            <li><b>x can only take on two values:</b>$\\{\\text{1 = match}, \\text{0 = no match}\\} $</li>\n",
    "            <li>We need to ensure that we only have one driver per rider $$ \\sum_{(i,j) \\in \\text{mdr} \\times \\text{mdr}}{\\text{mdr}_{i,j}\\times \\text{x}_{i,j}} = 1 $$</li>\n",
    "        <br>\n",
    "            <br>\n",
    "        </ul>"
   ]
  },
  {
   "cell_type": "code",
   "execution_count": 6,
   "id": "0beac8d5",
   "metadata": {},
   "outputs": [],
   "source": [
    "#Constraints\n",
    "\n",
    "#Here I am saying multiply each mdr_test.value(i,j) with  x(i,j), which populates the decision variables,\n",
    "#and make sure the sum is equal to the amount of riders we have.\n",
    "\n",
    "mdr_t = (sum(mdr_test.values[i,j]*x[i,j] for i in range(len(mdr_test.index))\n",
    "            for j in range(len(mdr_test.columns)))== len(mdr_test.index))"
   ]
  },
  {
   "cell_type": "code",
   "execution_count": 7,
   "id": "a75a4e2d",
   "metadata": {},
   "outputs": [
    {
     "data": {
      "text/plain": [
       "0.05424831544228037"
      ]
     },
     "execution_count": 7,
     "metadata": {},
     "output_type": "execute_result"
    }
   ],
   "source": [
    "prob = cp.Problem(objective, [mdr_t])\n",
    "prob.solve()\n"
   ]
  },
  {
   "cell_type": "code",
   "execution_count": 8,
   "id": "652860b8",
   "metadata": {},
   "outputs": [
    {
     "data": {
      "text/plain": [
       "(array([0]), array([7]))"
      ]
     },
     "execution_count": 8,
     "metadata": {},
     "output_type": "execute_result"
    }
   ],
   "source": [
    "np.where(x.value == 1)"
   ]
  },
  {
   "cell_type": "markdown",
   "id": "47c7432e",
   "metadata": {},
   "source": [
    "<h3>Solution</h3>\n",
    "<br>\n",
    "<font size=\"+1\">\n",
    "    <ul>\n",
    "        <li>The output tells us that driver number 8 would be the best fit for rider 1. Also, this selection satisfies the maximum dispatch radius.</li>"
   ]
  },
  {
   "cell_type": "markdown",
   "id": "df78b006",
   "metadata": {},
   "source": [
    "<h2>Question 2 (25 points) - Batching Dispatch Protocol: Minimize the Aggregated En Route Time Model</h2>\n",
    "<br>\n",
    "<font size=\"+1\">\n",
    "    <ul>\n",
    "        <li style=\"color:blue\">Recall:</li>\n",
    "        <br>\n",
    "        <ul style=\"color:blue\">\n",
    "            <li>An alternative matching approach is <i>batching</i> where rider requests are collected for a short time window (typically on the order of seconds), at the end of which an optimization problem is solved to pair each request with an open driver.</li>\n",
    "            <br>\n",
    "            <li>If there are riders that are not matched in this batch, then they are carried over and used for the optimization problem in the next batching window.</li>\n",
    "            <br>\n",
    "            <li>Batching can reduce the rider waiting time relative to the <i>first-dispatch</i> protocol by consolidating requests and making better use of the supply of dispatchable drivers.</li>\n",
    "            <br>\n",
    "            <ul>\n",
    "                <li>Note that the first-dispatch protocol can be viewed as a special case of the batching protocol when each batch consists of exactly one rider request.</li>\n",
    "                <br>\n",
    "            </ul>\n",
    "            <li>Due to its substantial benefits, batching has been implemented widely in major ride-hailing platforms.</li>\n",
    "            <br>\n",
    "        </ul>\n",
    "        <li>Assume you want to implement an improved matching algorithm solution, which is better than the benchmark first-dispatch protocol, that is capable of dispatching multiple drivers, from a collection of available drivers, to a collection of riders.</li>\n",
    "        <br>\n",
    "        <ul>\n",
    "            <li>Note that not every driver will necessarily be dispatched, and not every rider will necessarily be matched with an available driver (it will depend on how the number of riders and number of drivers are related ($\\geq, \\leq, =$)).</li>\n",
    "            <br>\n",
    "        </ul>\n",
    "        <li>Specifically, you are to implement the so-called <i>batching protocol</i> as an optimization problem given the randomly generated data below.</li>\n",
    "        <br>\n",
    "        <li>The data consists of:</li>\n",
    "        <br>\n",
    "        <ul>\n",
    "            <li>A collection of riders that are requesting pick-ups from a collection of drivers.</li>\n",
    "            <br>\n",
    "            <li>A data frame consisting of some measure of physical distance from each rider to each driver.</li>\n",
    "            <br>\n",
    "            <li>A data frame consisting of the en route time, also known as the expected time of arrival (ETA), which represents the estimated time it will take for a driver to meet a rider once they have been dispatched.</li>\n",
    "            <br>\n",
    "        </ul>\n",
    "        <li><b>Using the given data, formulate an optimization model (decision variables, objective function, constraints) that can be used to implement the <b style=\"color:blue\">batch</b> protocol that seeks to match drivers and riders in a way that <b style=\"color:blue\">minimizes the total en route time (i.e. total ETA).</b></b></li>\n",
    "        <br>\n",
    "        <li>That is,</li>\n",
    "        <br>\n",
    "        <ul>\n",
    "            <li>what decisions does the batching protocol have to make?</li>\n",
    "            <br>\n",
    "            <li>what is the goal or objective of the batching protocol?</li>\n",
    "            <br>\n",
    "            <li>what constraints does the batching protocol have?</li>\n",
    "            <br>\n",
    "            <ul>\n",
    "                <li><i>Hint: it is very possible, depending on your formulation, that you will need slightly different constraints depending on the the relation ($\\geq, \\leq, =$) between the number of riders and the number of drivers.</i></li>\n",
    "                <br>\n",
    "                <li><i>if num_riders $==$ num_drivers:\n",
    "                    <br>\n",
    "                    <br>\n",
    "                    elif num_riders $>$ num_drivers:\n",
    "                    <br>\n",
    "                    <br>\n",
    "                    elif num_riders $<$ num_drivers:\n",
    "                    <br>\n",
    "                    <br></i></li>\n",
    "                <br>\n",
    "            </ul>\n",
    "            <li>given the data below, how is the batching protocol suggesting the drivers be dispatched to the riders?</li>\n",
    "            <br>\n",
    "        </ul>\n",
    "        <li style=\"color:red\"><b>You should display your formulation and solutions in an easy to read and interpret format. Your code should be easy to interpret, and if it is not, you should add sufficient commentary through comments, Markdown, or $\\LaTeX$.</b></li>\n",
    "        <br>\n",
    "    </ul>\n",
    "</font>"
   ]
  },
  {
   "cell_type": "code",
   "execution_count": 9,
   "id": "f1a60719",
   "metadata": {},
   "outputs": [],
   "source": [
    "rng = np.random.default_rng(42)\n",
    "# Number of Riders\n",
    "num_riders = rng.poisson(lam=15)\n",
    "\n",
    "# Number of drivers\n",
    "num_drivers = rng.poisson(lam=15)\n",
    "\n",
    "\n",
    "distances1 = pd.DataFrame(rng.uniform(0, 30, (num_riders, num_drivers)),\n",
    "                         columns=[f'Driver {j}' for j in range(1, num_drivers+1)],\n",
    "                         index=[f'Rider {i}' for i in range(1,num_riders+1)])\n",
    "\n",
    "# Map distances to a binary constraint which consists 1 if within MDR and 0 otherwise\n",
    "# A value of 1 means the driver and rider can be connected.\n",
    "MDR1 = 150 # don't dispatch outside of MDR miles\n",
    "#mdr_2 is added in order to control for the number of riders and drivers per row and column.\n",
    "#This will come in crucial for the constraint functions.\n",
    "mdr_2 = (distances1 < MDR1).apply(lambda x: np.where(x, 1, 0)) # np.where(distances < MDR, 1, 0)\n",
    "\n",
    "eta1 = distances1.apply(lambda x: rng.pareto(x))"
   ]
  },
  {
   "cell_type": "markdown",
   "id": "eca43ad6",
   "metadata": {},
   "source": [
    "<h3>Decision Variables</h3>\n",
    "<br>\n",
    "<font size=\"+1\">\n",
    "    <ul>\n",
    "            <li>The decision variables are represented as the combination of riders (i) to drivers (j), and can be uneven amounts.</li>"
   ]
  },
  {
   "cell_type": "code",
   "execution_count": 10,
   "id": "95ba9c51",
   "metadata": {},
   "outputs": [
    {
     "data": {
      "text/plain": [
       "(18, 18)"
      ]
     },
     "execution_count": 10,
     "metadata": {},
     "output_type": "execute_result"
    }
   ],
   "source": [
    "#Decision variables\n",
    "x = cp.Variable(eta1.shape, integer=True)\n",
    "x.shape"
   ]
  },
  {
   "cell_type": "markdown",
   "id": "be37dc34",
   "metadata": {},
   "source": [
    "<h3>Objective Function</h3>\n",
    "<br>\n",
    "    <ul>\n",
    "        <li>What's the goal?</li>\n",
    "        <br>\n",
    "        <li>The goal is to minimize the total expected time of arrival (eta1), $$\\text{minimize: } eta = \\sum_{(i,j) \\in \\text{eta1} \\times \\text{eta1}}{\\text{eta1}_{i,j}\\times \\text{x}_{i,j}}$$</li>\n",
    "        <br>\n",
    "        <li>Now, we can instantiate a CVXPY objective function.</li>\n",
    "        <br>\n",
    "    </ul>\n",
    "</font>"
   ]
  },
  {
   "cell_type": "code",
   "execution_count": 11,
   "id": "ebb2784c",
   "metadata": {},
   "outputs": [],
   "source": [
    "#Here I am saying multiply each eta1.values (i,j) with x(i,j), which populates our decision variables.\n",
    "#We want to minimize the sum of the decision variables.\n",
    "\n",
    "total_eta = sum([eta1.values[i,j]*x[i,j] for i in range(eta1.shape[0])\n",
    "                       for j in range(eta1.shape[1])])\n",
    "\n",
    "objective_function = cp.Minimize(total_eta)"
   ]
  },
  {
   "cell_type": "markdown",
   "id": "6a3f4330",
   "metadata": {},
   "source": [
    "<h3>Constraints</h3>\n",
    "<br>        \n",
    "            <li><b>x can only take on two values:</b>$\\{\\text{match = 1}, \\text{no match = 0}\\} $</li>\n",
    "             <li> Further, we need to ensure a driver is only matched with one rider or less (situation dependent can also be == 1 if we have more riders than drivers). $$\\text{driver_cons} = \\sum_{}{\\text{x}_{j}} \\text{<=1}$$ </li>\n",
    "                      <li>Also, we need to ensure that a rider is only matched with one driver (situation dependent can also be <=1 if we have more riders than drivers). $$\\text{rider_cons} = \\sum_{}{\\text{x}_{i}} \\text{=1}$$</li>\n",
    "            <li><b>Given an uneven amount of rider's and driver's:</b> The sum of eta[i,j] * x[i,j] has to be equal to the lesser value. For instance if there are more riders than drivers we can't service each rider, and the sum needs to equal the amount of drivers, and vice versa.\n",
    "                    <li>This can be represented in a constraint by squeezing the sum of the matches to equal the lessor value between riders and drivers $$\\text{row_cons } = \\sum_{(i,j) \\in \\text{mdr_2} \\times \\text{mdr_2}}{\\text{mdr_2}_{i,j}\\times \\text{x}_{i,j}} == len(mdr_2.column / mdr_2.index)$$ -> The if and elif statements instruct what to add in for len(), which is dependant on the relationship between riders and drivers</li>\n",
    "                    \n",
    "                     \n",
    " </ul>"
   ]
  },
  {
   "cell_type": "code",
   "execution_count": 12,
   "id": "8b0f5fdb",
   "metadata": {},
   "outputs": [],
   "source": [
    "#Constraints\n",
    "#Append is used to force the condition to be applied each coordinate (i,j)\n",
    "#The condition is dynamic and depends on the amount of riders and drivers for each scenario.\n",
    "\n",
    "driver_cons = []\n",
    "rider_cons = []\n",
    "row_cons = []\n",
    "\n",
    "if num_riders == num_drivers:\n",
    "    for i in range(len(eta1.index)):\n",
    "        driver_cons.append(sum(x[i,j] for j in range(len(eta1.columns)))<=1)\n",
    "    \n",
    "    for j in range(len(eta1.columns)):\n",
    "        rider_cons.append(sum(x[i,j] for i in range(len(eta1.index)))==1)\n",
    "    \n",
    "elif num_riders  >  num_drivers:\n",
    "    for i in range(len(eta1.index)):\n",
    "        driver_cons.append(sum(x[i,j] for j in range(len(eta1.columns)))<=1)\n",
    "    \n",
    "    for j in range(len(eta1.columns)):\n",
    "        rider_cons.append(sum(x[i,j] for i in range(len(eta1.index)))<=1)\n",
    "        \n",
    "        row_cons.append(sum(mdr_2.values[i,j]*x[i,j] for i in range(len(mdr_2.index)) \n",
    "                            for j in range(len(mdr_2.columns)))== len(mdr_2.columns))\n",
    "\n",
    "elif num_riders  <  num_drivers:\n",
    "\n",
    "    for i in range(len(eta1.index)):\n",
    "        driver_cons.append(sum(x[i,j] for j in range(len(eta1.columns)))==1)\n",
    "    \n",
    "    for j in range(len(eta1.columns)):\n",
    "        rider_cons.append(sum(x[i,j] for i in range(len(eta1.index)))<=1)\n",
    "        \n",
    "        row_cons.append(sum(mdr_2.values[i,j]*x[i,j] for i in range(len(mdr_2.index)) \n",
    "                            for j in range(len(mdr_2.columns)))== len(mdr_2.index))"
   ]
  },
  {
   "cell_type": "code",
   "execution_count": 13,
   "id": "e02348f4",
   "metadata": {},
   "outputs": [],
   "source": [
    "#Constraints\n",
    "#Ensuring that all x values are above or equal to zero. This as we can not have negative values.\n",
    "var_positive = [x >=0]\n",
    "\n",
    "constraints = var_positive+driver_cons+rider_cons+row_cons"
   ]
  },
  {
   "cell_type": "code",
   "execution_count": 14,
   "id": "18d4db2e",
   "metadata": {},
   "outputs": [
    {
     "data": {
      "text/plain": [
       "0.10146319689847205"
      ]
     },
     "execution_count": 14,
     "metadata": {},
     "output_type": "execute_result"
    }
   ],
   "source": [
    "prob_1 = cp.Problem(objective_function, constraints)\n",
    "prob_1.solve()"
   ]
  },
  {
   "cell_type": "code",
   "execution_count": 15,
   "id": "c90ac787",
   "metadata": {},
   "outputs": [
    {
     "data": {
      "text/plain": [
       "array([[0., 0., 0., 0., 0., 0., 0., 0., 0., 0., 0., 0., 0., 0., 1., 0.,\n",
       "        0., 0.],\n",
       "       [0., 0., 0., 0., 0., 0., 0., 0., 0., 0., 0., 0., 0., 0., 0., 0.,\n",
       "        1., 0.],\n",
       "       [1., 0., 0., 0., 0., 0., 0., 0., 0., 0., 0., 0., 0., 0., 0., 0.,\n",
       "        0., 0.],\n",
       "       [0., 0., 0., 0., 0., 0., 0., 0., 0., 0., 0., 0., 0., 0., 0., 0.,\n",
       "        0., 1.],\n",
       "       [0., 0., 0., 0., 0., 0., 1., 0., 0., 0., 0., 0., 0., 0., 0., 0.,\n",
       "        0., 0.],\n",
       "       [0., 0., 0., 0., 0., 0., 0., 0., 0., 0., 0., 1., 0., 0., 0., 0.,\n",
       "        0., 0.],\n",
       "       [0., 0., 0., 0., 0., 0., 0., 0., 0., 0., 0., 0., 0., 0., 0., 1.,\n",
       "        0., 0.],\n",
       "       [0., 0., 1., 0., 0., 0., 0., 0., 0., 0., 0., 0., 0., 0., 0., 0.,\n",
       "        0., 0.],\n",
       "       [0., 0., 0., 0., 0., 1., 0., 0., 0., 0., 0., 0., 0., 0., 0., 0.,\n",
       "        0., 0.],\n",
       "       [0., 0., 0., 0., 0., 0., 0., 0., 1., 0., 0., 0., 0., 0., 0., 0.,\n",
       "        0., 0.],\n",
       "       [0., 0., 0., 0., 0., 0., 0., 0., 0., 0., 0., 0., 1., 0., 0., 0.,\n",
       "        0., 0.],\n",
       "       [0., 0., 0., 0., 0., 0., 0., 1., 0., 0., 0., 0., 0., 0., 0., 0.,\n",
       "        0., 0.],\n",
       "       [0., 0., 0., 0., 0., 0., 0., 0., 0., 1., 0., 0., 0., 0., 0., 0.,\n",
       "        0., 0.],\n",
       "       [0., 0., 0., 1., 0., 0., 0., 0., 0., 0., 0., 0., 0., 0., 0., 0.,\n",
       "        0., 0.],\n",
       "       [0., 0., 0., 0., 1., 0., 0., 0., 0., 0., 0., 0., 0., 0., 0., 0.,\n",
       "        0., 0.],\n",
       "       [0., 1., 0., 0., 0., 0., 0., 0., 0., 0., 0., 0., 0., 0., 0., 0.,\n",
       "        0., 0.],\n",
       "       [0., 0., 0., 0., 0., 0., 0., 0., 0., 0., 1., 0., 0., 0., 0., 0.,\n",
       "        0., 0.],\n",
       "       [0., 0., 0., 0., 0., 0., 0., 0., 0., 0., 0., 0., 0., 1., 0., 0.,\n",
       "        0., 0.]])"
      ]
     },
     "execution_count": 15,
     "metadata": {},
     "output_type": "execute_result"
    }
   ],
   "source": [
    "x.value"
   ]
  },
  {
   "cell_type": "code",
   "execution_count": 16,
   "id": "05013b74",
   "metadata": {},
   "outputs": [
    {
     "data": {
      "text/plain": [
       "(array([ 0,  1,  2,  3,  4,  5,  6,  7,  8,  9, 10, 11, 12, 13, 14, 15, 16,\n",
       "        17]),\n",
       " array([14, 16,  0, 17,  6, 11, 15,  2,  5,  8, 12,  7,  9,  3,  4,  1, 10,\n",
       "        13]))"
      ]
     },
     "execution_count": 16,
     "metadata": {},
     "output_type": "execute_result"
    }
   ],
   "source": [
    "np.where(x.value == 1)"
   ]
  },
  {
   "cell_type": "markdown",
   "id": "648158bd",
   "metadata": {},
   "source": [
    "<h3>Solution</h3>\n",
    "<br>\n",
    "<font size=\"+1\">\n",
    "    <ul>\n",
    "        <li>The output above us that the optimal matches were: Rider 1 was matched with Driver 15, Rider 2 with driver 17, Rider 3 with Driver 1, and so on. Also, this with a relationship of 18 riders and 18 drivers. </li>"
   ]
  },
  {
   "cell_type": "markdown",
   "id": "4e41f98e",
   "metadata": {},
   "source": [
    "<h2>Question 3 (25 points) - Batching Dispatch Protocol: Maximize Profit Model with a Maximum Dispatch Radius</h2>\n",
    "<br>\n",
    "<font size=\"+1\">\n",
    "    <ul>\n",
    "        <li style=\"color:blue\">Recall:</li>\n",
    "        <br>\n",
    "        <ul style=\"color:blue\">\n",
    "            <li>When batch matching is used by ride-hailing platforms, the dispatched driver could miss the opportunity of being matched with a rider that they drive passed while en route to their matched rider.</li>\n",
    "            <br>\n",
    "            <li>To mitigate this inefficiency, some ride-hailing platforms proposed a <i>maximum dispatch radius</i> (MDR)  constraint with carefully selected thresholds.</li>\n",
    "            <br>\n",
    "            <li>A maximum dispatch radius constraint means that a dispatch is made only if the en route time is below the threshold.</li>\n",
    "            <br>\n",
    "            <li>This prevents the driver from being dispatched to pick up very distant riders and experiencing an opportunity cost by not matching with future possible riders that are much closer.</li>\n",
    "            <br>\n",
    "        </ul>\n",
    "        <li>Assume you want to implement a variant on the batching dispatch protocol that minimized total ETA of all matches.</li>\n",
    "        <br>\n",
    "        <li><b>This new batching protocol seeks to <b style=\"color:red\">maximize the total profit</b> coming from all matched rider-driver pairs, while ensuring that the matching respects a maximum dispatch radius constraint.</b></li>\n",
    "        <br>\n",
    "        <ul>\n",
    "            <li>Note that not every driver will necessarily be dispatched, and not every rider will necessarily be matched with an available driver (it will depend on how the number of riders and number of drivers are related ($\\geq, \\leq, =$)).</li>\n",
    "            <br>\n",
    "        </ul>\n",
    "        <li>Specifically, you are to implement a variation on the <i>batching protocol</i> (as described above) as an optimization problem given the randomly generated data below.</li>\n",
    "        <br>\n",
    "        <li>The data consists of:</li>\n",
    "        <br>\n",
    "        <ul>\n",
    "            <li>A collection of riders that are requesting pick-ups from a collection of drivers.</li>\n",
    "            <br>\n",
    "            <li>A data frame consisting of some measure of physical distance from each rider to each driver.</li>\n",
    "            <br>\n",
    "            <li>A maximum dispatch radius (MDR) threshold and a data frame signalling when a rider-driver combination satisfies the MDR constraint.</li>\n",
    "            <br>\n",
    "            <li>A data frame consisting of the profits per trip if there is a match between riders and drivers.</li>\n",
    "            <br>\n",
    "            <ul>\n",
    "                <li>Profits can vary based on surge pricing conditions in different locations. That is, surge pricing depends not only on the dynamics of supply and demand, but also on geospatial locations of the rider requests.</li>\n",
    "                <br>\n",
    "            </ul>\n",
    "        </ul>\n",
    "        <li><b>Using the given data, formulate an optimization model (decision variables, objective function, constraints) that can be used to implement the <b style=\"color:blue\">batch</b> protocol that seeks to match drivers and riders in a way that <b style=\"color:blue\">maximizes the total profits while satisfying the MDR constraints.</b></b></li>\n",
    "        <br>\n",
    "        <li>That is,</li>\n",
    "        <br>\n",
    "        <ul>\n",
    "            <li>what decisions does the batching protocol have to make?</li>\n",
    "            <br>\n",
    "            <li>what is the goal or objective of the batching protocol?</li>\n",
    "            <br>\n",
    "            <li>what constraints does the batching protocol have?</li>\n",
    "            <br>\n",
    "            <ul>\n",
    "                <li><i>Hint: it is very possible, depending on your formulation, that you will need slightly different constraints depending on the the relation ($\\geq, \\leq, =$) between the number of riders and the number of drivers.</i></li>\n",
    "                <br>\n",
    "                <li><i>if num_riders $==$ num_drivers:\n",
    "                    <br>\n",
    "                    <br>\n",
    "                    elif num_riders $>$ num_drivers:\n",
    "                    <br>\n",
    "                    <br>\n",
    "                    elif num_riders $<$ num_drivers:\n",
    "                    <br>\n",
    "                    <br></i></li>\n",
    "                <br>\n",
    "            </ul>\n",
    "            <li>given the data below, how is the batching protocol suggesting the drivers be dispatched to the riders?</li>\n",
    "            <br>\n",
    "        </ul>\n",
    "        <li style=\"color:red\"><b>You should display your formulation and solutions in an easy to read and interpret format. Your code should be easy to interpret, and if it is not, you should add sufficient commentary through comments, Markdown, or $\\LaTeX$.</b></li>\n",
    "        <br>\n",
    "    </ul>\n",
    "</font>"
   ]
  },
  {
   "cell_type": "code",
   "execution_count": 17,
   "id": "2eb4836d",
   "metadata": {},
   "outputs": [],
   "source": [
    "rng = np.random.default_rng(42)\n",
    "# Number of Riders\n",
    "num_riders = rng.poisson(lam=15)\n",
    "\n",
    "# Number of drivers\n",
    "num_drivers = rng.poisson(lam=15)\n",
    "\n",
    "# Goal is to route DRIVER to RIDER\n",
    "# Equivalently, to match a rider with a driver\n",
    "\n",
    "# Physical measure of distance between riders and drivers\n",
    "distance1 = pd.DataFrame(rng.uniform(0, 30, (num_riders, num_drivers)),\n",
    "                         columns=[f'Driver {j}' for j in range(1, num_drivers+1)],\n",
    "                         index=[f'Rider {i}' for i in range(1,num_riders+1)])\n",
    "\n",
    "# Map distances to a binary constraint which consists 1 if within MDR and 0 otherwise\n",
    "# A value of 1 means the driver and rider can be connected.\n",
    "MDR22 = 15 # don't dispatch outside of MDR miles\n",
    "mdr2 = (distance1 < MDR22).apply(lambda x: np.where(x, 1, 0)) # np.where(distances < MDR, 1, 0)\n",
    "\n",
    "# Temporal measure of distance between riders and drivers\n",
    "# Expected Time of Arrival\n",
    "# ETA should be a function of the distance, driver's allowable speed, and some idiosyncratic noise\n",
    "# need a more realistic way to assign a variance, maybe as a function of distance\n",
    "profits = distance1.apply(lambda x: x + rng.lognormal(mean=1, sigma=3)) "
   ]
  },
  {
   "cell_type": "markdown",
   "id": "2ff11e1f",
   "metadata": {},
   "source": [
    "<h3>Decision Variables</h3>\n",
    "<br>\n",
    "<font size=\"+1\">\n",
    "    <ul>\n",
    "            <li>The decision variables are represented as the combination of riders (i) to drivers (j), and can be uneven amounts.</li>"
   ]
  },
  {
   "cell_type": "code",
   "execution_count": 18,
   "id": "e86a7753",
   "metadata": {},
   "outputs": [
    {
     "data": {
      "text/plain": [
       "(18, 18)"
      ]
     },
     "execution_count": 18,
     "metadata": {},
     "output_type": "execute_result"
    }
   ],
   "source": [
    "#Decision variables\n",
    "p = cp.Variable(profits.shape, integer=True)\n",
    "p.shape"
   ]
  },
  {
   "cell_type": "markdown",
   "id": "96ff998f",
   "metadata": {},
   "source": [
    "<h3>Objective Function</h3>\n",
    "<br>\n",
    "    <ul>\n",
    "        <li>What's the goal?</li>\n",
    "        <br>\n",
    "        <li>The goal is to maximize the total profits, $$\\text{maximize: } Profits = \\sum_{(i,j) \\in \\text{profits} \\times \\text{profits}}{\\text{p}_{i,j}\\times \\text{profits}_{i,j}}$$</li>\n",
    "        <br>\n",
    "        <li>Now, we can instantiate a CVXPY objective function.</li>\n",
    "        <br>\n",
    "    </ul>\n",
    "</font>"
   ]
  },
  {
   "cell_type": "code",
   "execution_count": 19,
   "id": "771609ae",
   "metadata": {},
   "outputs": [],
   "source": [
    "#Objective function\n",
    "#Here I am saying multiply each profits.values (i,j) with x(i,j), which populates our decision variables.\n",
    "#We want to maximize the sum of the decision variables.\n",
    "\n",
    "total_profits = sum([profits.values[i,j]*p[i,j] for i in range(profits.shape[0])\n",
    "                       for j in range(profits.shape[1])])\n",
    "\n",
    "objective_function = cp.Maximize(total_profits)"
   ]
  },
  {
   "cell_type": "markdown",
   "id": "e12f87aa",
   "metadata": {},
   "source": [
    "<h3>Constraints</h3>\n",
    "<br>        \n",
    "            <li><b>x can only take on two values:</b>$\\{\\text{match = 1}, \\text{no match = 0}\\} $</li>\n",
    "             <li> We need to ensure that a driver is only matched with one rider or less (situation dependent, we can also have == 1 if there are more riders than drivers). $$\\text{driver_cons} = \\sum_{}{\\text{x}_{j}} \\text{<=1}$$ </li>\n",
    "                      <li>Further, we need to ensure that a rider is only matched with one driver (situation dependent can also be <=1 if there are more riders than drives). $$\\text{rider_cons} = \\sum_{}{\\text{x}_{i}} \\text{=1}$$ </li>\n",
    "            <li><b>Given an uneven amount of rider's and driver's:</b> The sum of profits[i,j] * x[i,j] has to be equal to the lesser value. For instance if there are more riders than drivers we can't service each rider, and the sum needs to equal the amount of drivers, and vice versa.\n",
    "                    <li>This can be represented in a constraint by squeezing the sum of the matches to equal the lessor value between riders and drivers $$\\text{row_cons} = \\sum_{(i,j) \\in \\text{mdr2} \\times \\text{mdr2}}{\\text{mdr2}_{i,j}\\times \\text{x}_{i,j}} = len(mdr2.column / mdr2.index)$$ -> The if and elif statements instruct what to add in for len(), which is dependant on the relationship between riders and drivers</li>\n",
    "                    \n",
    "                     \n",
    " </ul>"
   ]
  },
  {
   "cell_type": "code",
   "execution_count": 20,
   "id": "876e640f",
   "metadata": {},
   "outputs": [],
   "source": [
    "#Constraints\n",
    "#Append is used to force the condition to be applied each coordinate (i,j)\n",
    "#The condition is dynamic and depends on the amount of riders and drivers for each scenario.\n",
    "\n",
    "\n",
    "driver_cons = []\n",
    "rider_cons = []\n",
    "row_cons = []\n",
    "\n",
    "if num_riders == num_drivers:\n",
    "    for i in range(len(profits.index)):\n",
    "        driver_cons.append(sum(p[i,j] for j in range(len(profits.columns)))<=1)\n",
    "    \n",
    "    for j in range(len(profits.columns)):\n",
    "        rider_cons.append(sum(p[i,j] for i in range(len(profits.index)))==1)\n",
    "        \n",
    "        row_cons.append(sum(mdr2.values[i,j]*p[i,j] for i in range(len(mdr2.index)) \n",
    "                            for j in range(len(mdr2.columns)))==len(mdr2.columns))\n",
    "    \n",
    "elif num_riders  >  num_drivers:\n",
    "    for i in range(len(profits.index)):\n",
    "        driver_cons.append(sum(p[i,j] for j in range(len(profits.columns)))<=1)\n",
    "    \n",
    "    for j in range(len(profits.columns)):\n",
    "        rider_cons.append(sum(p[i,j] for i in range(len(profits.index)))==1)\n",
    "        \n",
    "        row_cons.append(sum(mdr2.values[i,j]*p[i,j] for i in range(len(mdr2.index)) \n",
    "                            for j in range(len(mdr2.columns)))==len(mdr2.columns))\n",
    "\n",
    "elif num_riders  <  num_drivers:\n",
    "\n",
    "    for i in range(len(profits.index)):\n",
    "        driver_cons.append(sum(p[i,j] for j in range(len(profits.columns)))==1)\n",
    "    \n",
    "    for j in range(len(profits.columns)):\n",
    "        rider_cons.append(sum(p[i,j] for i in range(len(profits.index)))<=1)\n",
    "        \n",
    "        row_cons.append(sum(mdr2.values[i,j]*p[i,j] for i in range(len(mdr2.index)) \n",
    "                            for j in range(len(mdr2.columns)))==len(mdr2.index))\n",
    "    "
   ]
  },
  {
   "cell_type": "code",
   "execution_count": 21,
   "id": "66aef9dc",
   "metadata": {},
   "outputs": [],
   "source": [
    "p_positive = [p >=0]\n",
    "constraints = p_positive+rider_cons+driver_cons+row_cons\n",
    "\n",
    "prob_3 = cp.Problem(objective_function, constraints)"
   ]
  },
  {
   "cell_type": "code",
   "execution_count": 22,
   "id": "d729b025",
   "metadata": {},
   "outputs": [
    {
     "data": {
      "text/plain": [
       "1322.7378169500578"
      ]
     },
     "execution_count": 22,
     "metadata": {},
     "output_type": "execute_result"
    }
   ],
   "source": [
    "prob_3.solve()"
   ]
  },
  {
   "cell_type": "code",
   "execution_count": 23,
   "id": "8f7a4491",
   "metadata": {},
   "outputs": [
    {
     "data": {
      "text/plain": [
       "array([[0., 1., 0., 0., 0., 0., 0., 0., 0., 0., 0., 0., 0., 0., 0., 0.,\n",
       "        0., 0.],\n",
       "       [1., 0., 0., 0., 0., 0., 0., 0., 0., 0., 0., 0., 0., 0., 0., 0.,\n",
       "        0., 0.],\n",
       "       [0., 0., 0., 0., 0., 0., 0., 0., 0., 0., 0., 0., 0., 0., 0., 0.,\n",
       "        0., 1.],\n",
       "       [0., 0., 0., 0., 0., 1., 0., 0., 0., 0., 0., 0., 0., 0., 0., 0.,\n",
       "        0., 0.],\n",
       "       [0., 0., 0., 0., 0., 0., 0., 0., 0., 0., 0., 0., 0., 1., 0., 0.,\n",
       "        0., 0.],\n",
       "       [0., 0., 0., 0., 0., 0., 0., 0., 1., 0., 0., 0., 0., 0., 0., 0.,\n",
       "        0., 0.],\n",
       "       [0., 0., 0., 0., 0., 0., 0., 0., 0., 1., 0., 0., 0., 0., 0., 0.,\n",
       "        0., 0.],\n",
       "       [0., 0., 0., 1., 0., 0., 0., 0., 0., 0., 0., 0., 0., 0., 0., 0.,\n",
       "        0., 0.],\n",
       "       [0., 0., 0., 0., 1., 0., 0., 0., 0., 0., 0., 0., 0., 0., 0., 0.,\n",
       "        0., 0.],\n",
       "       [0., 0., 0., 0., 0., 0., 1., 0., 0., 0., 0., 0., 0., 0., 0., 0.,\n",
       "        0., 0.],\n",
       "       [0., 0., 0., 0., 0., 0., 0., 0., 0., 0., 0., 1., 0., 0., 0., 0.,\n",
       "        0., 0.],\n",
       "       [0., 0., 0., 0., 0., 0., 0., 0., 0., 0., 0., 0., 0., 0., 0., 1.,\n",
       "        0., 0.],\n",
       "       [0., 0., 0., 0., 0., 0., 0., 0., 0., 0., 0., 0., 1., 0., 0., 0.,\n",
       "        0., 0.],\n",
       "       [0., 0., 0., 0., 0., 0., 0., 0., 0., 0., 1., 0., 0., 0., 0., 0.,\n",
       "        0., 0.],\n",
       "       [0., 0., 0., 0., 0., 0., 0., 0., 0., 0., 0., 0., 0., 0., 0., 0.,\n",
       "        1., 0.],\n",
       "       [0., 0., 0., 0., 0., 0., 0., 1., 0., 0., 0., 0., 0., 0., 0., 0.,\n",
       "        0., 0.],\n",
       "       [0., 0., 0., 0., 0., 0., 0., 0., 0., 0., 0., 0., 0., 0., 1., 0.,\n",
       "        0., 0.],\n",
       "       [0., 0., 1., 0., 0., 0., 0., 0., 0., 0., 0., 0., 0., 0., 0., 0.,\n",
       "        0., 0.]])"
      ]
     },
     "execution_count": 23,
     "metadata": {},
     "output_type": "execute_result"
    }
   ],
   "source": [
    "p.value"
   ]
  },
  {
   "cell_type": "markdown",
   "id": "88951a1d",
   "metadata": {},
   "source": [
    "<h3>Solution</h3>\n",
    "<br>\n",
    "<font size=\"+1\">\n",
    "    <ul>\n",
    "        <li>The output above tells us that the following matches were made given the relationship of (18 riders and 18 drivers) For instance: Rider 1 was matched with Driver 15, Rider 2 with driver 17, and so on. Also, this optimal matching led to a profit of: 1,322.73. </li>"
   ]
  },
  {
   "cell_type": "markdown",
   "id": "f39244be",
   "metadata": {},
   "source": [
    "<h2>Question 4 (25 points) - Optimal Scheduling of Uber Push Notifications</h2>\n",
    "<br>\n",
    "<font size=\"+1\">\n",
    "    <ul>\n",
    "        <li style=\"color:red\"><b>This problem is not related to optimally matching drivers with riders; it is another problem faced by Uber that is more related to finding an optimal advertising schedule.</b></li>\n",
    "        <br>\n",
    "        <ul>\n",
    "            <li style=\"color:red\">In particular you will be trying to answer the question:</li>\n",
    "            <br>\n",
    "            <ul>\n",
    "                <li style=\"color:red\"><b>What to send when?</b></li>\n",
    "                <br>\n",
    "                <li style=\"color:red\">i.e. <b>What push notification to send at what time?</b></li>\n",
    "                <br>\n",
    "            </ul>\n",
    "        </ul>\n",
    "        <li>The goal of this exercise is for you to read the article <a href=\"https://www.uber.com/blog/how-uber-optimizes-push-notifications-using-ml/\">How Uber Optimizes Push Notifications Using Optimization and Machine Learning</a> and use it as a template to motivate, formulate, and solve your own optimization problem.</li>\n",
    "        <br>\n",
    "        <ul>\n",
    "            <li>It is perfectly okay to try to implement the optimization problem described in the article.</li>\n",
    "            <br>\n",
    "        </ul>\n",
    "        <li><b>The following questions should be answered based off the above article:</b></li>\n",
    "        <ol>\n",
    "            <li><b>Describe, in detail, Uber's business motivation for implementing the push notification.</b></li>\n",
    "            <br>\n",
    "            <ul>\n",
    "                <li>This is where you should use your business IQ to motivate the business needs and propose how a prescriptive analytics solution (optimization) can help to address the business needs.</li>\n",
    "                <br>\n",
    "                <li>This might require you to do some additional reading of your own, via Google.</li>\n",
    "                <br>\n",
    "            </ul>\n",
    "            <li><b>Clearly identify any points where machine learning would be used in the solution to this push notification scheduling problem. Describe any data that would be required, as well.</b></li>\n",
    "            <br>\n",
    "            <li><b>Motivate, formulate, and implement an optimization solution to the push notification scheduling problem using the given simulated data.</b></li>\n",
    "            <br>\n",
    "        </ol>\n",
    "        <li>There is simulated data provided below. The data consists of:</li>\n",
    "        <br>\n",
    "        <ul>\n",
    "            <li>The time periods (time slots) where a push notification can be sent, as well as the number of push notifications that can be sent.</li>\n",
    "            <br>\n",
    "            <li>A data frame (scores) consisting of some measure of the value of a <b>(push, time)</b> scheduling pair.</li>\n",
    "            <br>\n",
    "        </ul>\n",
    "        <li style=\"color:dodgerblue\">A few remarks:</li>\n",
    "        <br>\n",
    "        <ul style=\"color:dodgerblue\">\n",
    "            <li>Given a set of candidate push notifications for a user and a set of possible delivery times, the optimization framework should identify the optimal <b>(push, time)</b> pairs.</li>\n",
    "            <br>\n",
    "            <li><b>You should ignore all window and expiriation constraints given in the article.</b></li>\n",
    "            <br>\n",
    "            <li>Not all notifications need to be scheduled, only the ones that lead to the highest profit.</li>\n",
    "            <br>\n",
    "        </ul>\n",
    "        <li style=\"color:red\"><b>You should display your formulation and solutions in an easy to read and interpret format. Your code should be easy to interpret, and if it is not, you should add sufficient commentary through comments, Markdown, or $\\LaTeX$.</b></li>\n",
    "        <br>\n",
    "    </ul>\n",
    "</font>"
   ]
  },
  {
   "cell_type": "code",
   "execution_count": 24,
   "id": "caff96af",
   "metadata": {},
   "outputs": [],
   "source": [
    "rng = np.random.default_rng(42)\n",
    "# Number of times that you can schedule a push notification\n",
    "time_periods = rng.integers(1,40) # 4\n",
    "\n",
    "# Number of push notifications you need to schedule\n",
    "num_notifications = rng.integers(1,40) # 9\n",
    "\n",
    "# Goal is to schedule NOTIFICATION to TIME PERIOD\n",
    "\n",
    "# Score that measures the value of a (push, time) pair\n",
    "# It represents the output of a machine learning model \n",
    "# that predicts the probability of a user making an order within 24 hours of receiving push i at time t\n",
    "scores = pd.DataFrame(rng.uniform(0, 50, (num_notifications, time_periods)),\n",
    "                         columns=[f'Time Slot {j}' for j in range(1, time_periods+1)],\n",
    "                         index=[f'Push Notification {i}' for i in range(1,num_notifications+1)])"
   ]
  },
  {
   "cell_type": "markdown",
   "id": "34b8c6ff",
   "metadata": {},
   "source": [
    "<h3>Uber's motivation for implementing push notifications:</h3>\n",
    "<hr style=\"border:10px solid black\">\n",
    "<br>\n",
    "<font size=\"+1\">\n",
    "    \n",
    "Uber's value proposition is centered around customer satisfaction and trust, and as a business, it should be interested in increasing both and maximizing its profits. An article from Buildfire describes that according to Xtify, a company owned by IBM, push notifications open rates are as high as 60% and interaction rates up to 40%. Given a large number of Uber Eats customers, approximately 81 million in 2022, push notifications can significantly increase app engagement. Further, push notifications should be prioritized compared to conventional marketing strategies such as email marketing, which only has an open rate of 20% and an interaction rate of roughly 5%. Uber's motivation for implementing push notifications can be attributed to the high open rates and engagement rates, alerting a large customer base of new deals, discounts, and products through their app. Ultimately, more conversions could lead to higher revenues. \n",
    "\n",
    "<br>\n",
    "<font size=\"+1\">\n",
    "\n",
    "As a result, Uber Eats push notifications were implemented in March 2020. With its large customer base, the tally of notifications amounted to several billion per month towards the end of 2020. Due to a large number of notifications, it was a new feature; a few core quality issues were described.\n",
    "\n",
    "1. \"There were core quality issues (i.e., notifications sent after hours, invalid deeplinks, duplicates, invalid promo codes, landing users on closed stores, etc.)\"\n",
    "\n",
    "2. \"Notifications were being sent within minutes and hours of each other, many with conflicting messaging.\n",
    "\n",
    "3. \"Pushes were being sent to users with little to no personalization in terms of what push the user would prefer to receive, at what time, or at what frequency our marketing teams had introduced a variety of new methods to manually control conflicting messaging, adding upwards of 15 hours per week per team member and shifting valuable strategy work to more menial orchestration tasks.\"\n",
    "\n",
    "\n",
    "The problems described above affect customer trust, satisfaction, and engagement and can decrease potential revenues. Overall, reducing the effectiveness of push notifications, and if handled slowly, it could escalate to a situation where it will be difficult to gain back customer trust. As mentioned above, Uber's value proposition can be defined as a mix between customer satisfaction and trust. Therefore, there is an interest in exploring how we can use prescriptive analytics to tackle those problems mentioned above.\n",
    "\n",
    "To first assess a solution to the problems, a few critical decisions need to be made:\n",
    "\n",
    "1. Time horizon: Under the simulated data, there will be a fixed time horizon composed of four different time slots with unique values for each push notification.\n",
    "\n",
    "2. Amount of notifications: In this problem, we are working with a fixed amount of push notification option and we can only send four notifications in total, and one for each time stamp.\n",
    "\n",
    "1. The objective: Maximize the probability of customer conversion, which will be represented as the sum of the selected timestamp values. In other words, what is the schedule that maximizes the sum of scores from its assignments?\n",
    "\n",
    "2. Output: This schedule should give us the optimal selection per time stamp and is limited to one push notification per time stamp and a total sum of 4."
   ]
  },
  {
   "cell_type": "markdown",
   "id": "256a9549",
   "metadata": {},
   "source": [
    "<h3>Decision Variables can be explained as follows</h3>\n",
    "<br>\n",
    "<font size=\"+1\">\n",
    "    <ul>\n",
    "            <li>The decision variables are whether or not we should schedule a push notification.</li>\n",
    "            <br>\n",
    "            <li>$\\text{Each decision is represented as: x}_{i, j} \\in \\mathbb{scores}$: In this case the combination of i (rows),j (columns) works as a coordinate for the scores dataframe values and each coordinate will assign an x value. Each x value represents the probability for a push notification $i$ in a timestamp $j$ to be converted into a sale.</li>\n",
    "<br>"
   ]
  },
  {
   "cell_type": "code",
   "execution_count": 25,
   "id": "c72b140c",
   "metadata": {},
   "outputs": [
    {
     "data": {
      "text/plain": [
       "(31, 4)"
      ]
     },
     "execution_count": 25,
     "metadata": {},
     "output_type": "execute_result"
    }
   ],
   "source": [
    "x = cp.Variable(scores.shape, boolean = True)\n",
    "x.shape"
   ]
  },
  {
   "cell_type": "markdown",
   "id": "04b2c429",
   "metadata": {},
   "source": [
    "\n",
    "<br>\n",
    "<font size=\"+1\">\n",
    "\n",
    "How to pick the best schedule?\n",
    "\n",
    "Per Uber's optimization problem, it makes the most sense to think of this as an assignment problem. We can use machine learning to predict the probability that a customer converts after being sent a push notification during a specific time bassed on historical data. The output in the form of a score will be assigned to each push notification per timestamp. From experience using logistic regression or a decision tree models are effective for this type of prediction. In order to create an effective model a few key data and assumptions would be necessary:\n",
    "    \n",
    "1. Customer preferences need to stay stable over time. If we see a lot of changes in Uber Eats food preferences it would be difficult to keep a model relevant.\n",
    "    \n",
    "2. A large dataset with extensive information about variables that could have played a part in a customer conversion. Data such as demographics, Uber Eats app interactions, spending pattern, past purchasing history, etc. Would be key data to obtain.\n",
    "\n",
    "\n",
    "Further, we can use the linear program solver CVXPY to solve for the schedule that maximizes the output. \n",
    "\n",
    "\n",
    "<h3>Objective Function</h3>\n",
    "<br>\n",
    "<font size=\"+1\">\n",
    "    <ul>\n",
    "        <li>What's the goal?</li>\n",
    "        <br>\n",
    "        <li>The goal is to maximize the total probability of a customer converting, which is noted as \"conversion.\" $$\\text{maximize: } conversion = \\sum_{(i,j) \\in \\text{scores} \\times \\text{scores}}{\\text{probabilities}_{i,j}\\times \\text{x}_{i,j}}$$</li>\n",
    "        <br>\n",
    "        <li>The maximize function will multiply each scores value with the variable x, pick the highest values that satisfies the constraints and lastly give us the sum of the function.</li>\n",
    "        <li>Now, we can instantiate a CVXPY objective function.</li>\n",
    "        <br>\n",
    "    </ul>\n",
    "</font>\n"
   ]
  },
  {
   "cell_type": "code",
   "execution_count": 25,
   "id": "0ccc6c66",
   "metadata": {},
   "outputs": [],
   "source": [
    "sum_scores = sum([scores.values[i,j]*x[i,j] for i in range(scores.shape[0])\n",
    "                       for j in range(scores.shape[1])])\n",
    "\n",
    "objective_function = cp.Maximize(sum_scores)"
   ]
  },
  {
   "cell_type": "markdown",
   "id": "2d740136",
   "metadata": {},
   "source": [
    "\n",
    "    \n",
    "<h3>Subject to:</h3>\n",
    "<br>\n",
    "<font size=\"+1\">\n",
    "    <ul>\n",
    "       </ul>\n",
    "        <li>We can now model our constraints as follows:</li>\n",
    "        <br>\n",
    "        <ul>\n",
    "            <li><b>We can choose to send up to one push notification per timestamp, which will prevent customer overload:</b> \n",
    "                $$\\sum_{j \\in \\text{scores}}{\\text{x}_{j}} \\leq \\text{1}$$</li>\n",
    "            <br>\n",
    "            <li><b>Each time stamp can have one push notification or less:</b> \n",
    "                $$\\sum_{i \\in \\text{scores}}{\\text{x}_{i}} \\leq \\text{1}$$</li>\n",
    "            <br>\n",
    "            <br>\n",
    "            <li><b>We can not have fractional push notifications:</b> \n",
    "                $$\\sum_{i,j \\in \\text{scores}}{\\text{x}_{i,j}} = \\text{integer}$$</li>\n",
    "            <br>\n",
    "            <li><b>We can not have negative push notifications.:</b> \n",
    "                $$\\sum_{i,j \\in \\text{scores}}{\\text{x}_{i,j}} \\geq \\text{0}$$</li>\n",
    "            <br>\n",
    "        </ul>\n",
    "        <br>\n",
    "</font>"
   ]
  },
  {
   "cell_type": "code",
   "execution_count": 57,
   "id": "f74b8b5c",
   "metadata": {},
   "outputs": [],
   "source": [
    "push_not = []\n",
    "\n",
    "for i in range(len(scores.index)):\n",
    "    push_not.append(sum(x[i,j] for j in range(len(scores.columns)))<=1)\n",
    "\n",
    "time_slot = []\n",
    "\n",
    "for j in range(len(scores.columns)):\n",
    "    time_slot.append(sum(x[i,j] for i in range(len(scores.index)))<=1) \n",
    "\n"
   ]
  },
  {
   "cell_type": "code",
   "execution_count": 58,
   "id": "d66e5e1f",
   "metadata": {},
   "outputs": [
    {
     "data": {
      "text/plain": [
       "191.20387220434952"
      ]
     },
     "execution_count": 58,
     "metadata": {},
     "output_type": "execute_result"
    }
   ],
   "source": [
    "neg = [x >=0]\n",
    "\n",
    "constraint = neg+time_slot+push_not\n",
    "\n",
    "prob_1 = cp.Problem(objective_function, constraint)\n",
    "prob_1.solve()"
   ]
  },
  {
   "cell_type": "code",
   "execution_count": 59,
   "id": "425f1273",
   "metadata": {},
   "outputs": [
    {
     "data": {
      "text/plain": [
       "array([[0., 0., 0., 0.],\n",
       "       [1., 0., 0., 0.],\n",
       "       [0., 0., 0., 0.],\n",
       "       [0., 0., 0., 0.],\n",
       "       [0., 0., 0., 0.],\n",
       "       [0., 1., 0., 0.],\n",
       "       [0., 0., 0., 0.],\n",
       "       [0., 0., 0., 0.],\n",
       "       [0., 0., 0., 0.],\n",
       "       [0., 0., 0., 0.],\n",
       "       [0., 0., 0., 0.],\n",
       "       [0., 0., 0., 0.],\n",
       "       [0., 0., 0., 0.],\n",
       "       [0., 0., 0., 0.],\n",
       "       [0., 0., 0., 0.],\n",
       "       [0., 0., 0., 0.],\n",
       "       [0., 0., 0., 0.],\n",
       "       [0., 0., 0., 0.],\n",
       "       [0., 0., 0., 0.],\n",
       "       [0., 0., 0., 0.],\n",
       "       [0., 0., 0., 0.],\n",
       "       [0., 0., 0., 0.],\n",
       "       [0., 0., 0., 0.],\n",
       "       [0., 0., 0., 0.],\n",
       "       [0., 0., 0., 1.],\n",
       "       [0., 0., 1., 0.],\n",
       "       [0., 0., 0., 0.],\n",
       "       [0., 0., 0., 0.],\n",
       "       [0., 0., 0., 0.],\n",
       "       [0., 0., 0., 0.],\n",
       "       [0., 0., 0., 0.]])"
      ]
     },
     "execution_count": 59,
     "metadata": {},
     "output_type": "execute_result"
    }
   ],
   "source": [
    "x.value"
   ]
  },
  {
   "cell_type": "code",
   "execution_count": 60,
   "id": "f76bb620",
   "metadata": {},
   "outputs": [
    {
     "data": {
      "text/plain": [
       "(array([ 1,  5, 24, 25]), array([0, 1, 3, 2]))"
      ]
     },
     "execution_count": 60,
     "metadata": {},
     "output_type": "execute_result"
    }
   ],
   "source": [
    "np.where(x.value == 1)"
   ]
  },
  {
   "cell_type": "markdown",
   "id": "f4f03664",
   "metadata": {},
   "source": [
    "<h3>Results:</h3>\n",
    "<br>\n",
    "<font size=\"+1\">\n",
    "\n",
    "The output tells us the optimal advertising plans is:\n",
    "\n",
    "1. Push notification 2 in timestamp 1 (1,0)\n",
    "2. Push notification 6 in timestamp 2 (5,1)\n",
    "3. Push notification 24 in timestamp 4 (24,3)\n",
    "4. Push notification 25 in timestamp 3 (25,2)\n",
    "    \n",
    "The sum/profit of the four push notifications comes out: 191.20\n"
   ]
  },
  {
   "cell_type": "markdown",
   "id": "f54d3fdd",
   "metadata": {},
   "source": [
    "<h1>Extensions (If Interested, Not Required)</h1>\n",
    "<br>\n",
    "<font size=\"+1\">\n",
    "    <ul>\n",
    "        <li>This is an example of a type of very real problem that has many questions that need to be answered for many different businesses.</li>\n",
    "        <br>\n",
    "        <li>If one is interested, this topic could be extended into a comprehensive project that is presentable to future employers.</li>\n",
    "        <br>\n",
    "        <li>Specifically, there are many questions (that have and haven't been addressed in this exam) that require the full spectrum of analytics (descriptive, predictive, and prescriptive) to sufficiently answer. (This is good news!)</li>\n",
    "        <br>\n",
    "        <li>A few ride-hailing data sources are:</li>\n",
    "        <br>\n",
    "        <ul>\n",
    "            <li><a href=\"https://www.openstreetmap.org/#map=5/38.013/-95.845\">Open Street Maps</a> can be used to reconstruct a real city network (for more, see <a href=\"https://gisgeography.com/openstreetmap-download-osm-data/\">here</a> and <a href=\"https://planet.openstreetmap.org/\">here</a>).</li>\n",
    "            <br>\n",
    "            <li><a href=\"https://www.nyc.gov/site/tlc/about/tlc-trip-record-data.page\">New York City Taxi and Limousine Commission data set </a>. This massive data set contains all ride-sharing and taxi trips in NYC, starting from 2009, for a total of more than one billion rides.</li>\n",
    "            <br>\n",
    "            <li><a href=\"https://data.world/ride-austin\">RideAustin</a> data set also contains lots of data related to surge pricing.</li>\n",
    "            <br>\n",
    "        </ul>\n",
    "    </ul>\n",
    "</font>"
   ]
  },
  {
   "cell_type": "code",
   "execution_count": null,
   "id": "37164998",
   "metadata": {},
   "outputs": [],
   "source": []
  }
 ],
 "metadata": {
  "hide_input": false,
  "kernelspec": {
   "display_name": "Python 3",
   "language": "python",
   "name": "python3"
  },
  "language_info": {
   "codemirror_mode": {
    "name": "ipython",
    "version": 3
   },
   "file_extension": ".py",
   "mimetype": "text/x-python",
   "name": "python",
   "nbconvert_exporter": "python",
   "pygments_lexer": "ipython3",
   "version": "3.8.8"
  },
  "latex_envs": {
   "LaTeX_envs_menu_present": true,
   "autoclose": false,
   "autocomplete": true,
   "bibliofile": "biblio.bib",
   "cite_by": "apalike",
   "current_citInitial": 1,
   "eqLabelWithNumbers": true,
   "eqNumInitial": 1,
   "hotkeys": {
    "equation": "Ctrl-E",
    "itemize": "Ctrl-I"
   },
   "labels_anchors": false,
   "latex_user_defs": false,
   "report_style_numbering": false,
   "user_envs_cfg": false
  },
  "toc": {
   "base_numbering": 1,
   "nav_menu": {},
   "number_sections": true,
   "sideBar": true,
   "skip_h1_title": false,
   "title_cell": "Table of Contents",
   "title_sidebar": "Contents",
   "toc_cell": true,
   "toc_position": {
    "height": "calc(100% - 180px)",
    "left": "10px",
    "top": "150px",
    "width": "205.547px"
   },
   "toc_section_display": true,
   "toc_window_display": true
  }
 },
 "nbformat": 4,
 "nbformat_minor": 5
}
